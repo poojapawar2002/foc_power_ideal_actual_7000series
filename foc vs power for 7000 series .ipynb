{
 "cells": [
  {
   "cell_type": "code",
   "execution_count": 1,
   "id": "d39dadaf-6502-4173-b619-a0e1c4c1ada9",
   "metadata": {},
   "outputs": [],
   "source": [
    "import pandas as pd\n",
    "import numpy as np\n",
    "import math"
   ]
  },
  {
   "cell_type": "code",
   "execution_count": 2,
   "id": "bf232db3-d3cd-466c-9104-0438b4881bbb",
   "metadata": {},
   "outputs": [],
   "source": [
    "df = pd.read_csv(\"../Data/autolog_complete_input_ideal_power_foc_7000series_except1004.csv\")"
   ]
  },
  {
   "cell_type": "code",
   "execution_count": 3,
   "id": "e146f427-5eed-42a3-960f-701484e118b5",
   "metadata": {},
   "outputs": [],
   "source": [
    "df = df[df[\"MEFuelMassCons\"]!=0]"
   ]
  },
  {
   "cell_type": "code",
   "execution_count": 4,
   "id": "da8d2d6f-2132-4827-89c6-67077eacd9d0",
   "metadata": {},
   "outputs": [],
   "source": [
    "df[\"MeanDraft\"] = (df[\"DraftAftTele\"] + df[\"DraftFwdTele\"])/2"
   ]
  },
  {
   "cell_type": "code",
   "execution_count": 5,
   "id": "4c17224b-43fe-4e05-b48b-10c7bba65774",
   "metadata": {},
   "outputs": [],
   "source": [
    "df[\"LCVCorrectedFOC\"] = (((df[\"MEFuelMassCons\"]/1000)*df[\"MEFuelLCV\"]/40.6)/df[\"ME1RunningHoursMinute\"])*1440"
   ]
  },
  {
   "cell_type": "code",
   "execution_count": 6,
   "id": "02f269a9-3c0f-492b-81d7-fd17a6192a9b",
   "metadata": {},
   "outputs": [],
   "source": [
    "# Define bin sizes\n",
    "speed_bins = np.arange(math.floor(df['SpeedOG'].min()), math.ceil(df['SpeedOG'].max()) , 1)   # every 2 knots\n",
    "draft_bins = np.arange(math.floor(df['MeanDraft'].min()), math.ceil(df['MeanDraft'].max()), 1)  # every 0.5m\n",
    "\n",
    "# Add binned columns\n",
    "df['speed_bin'] = pd.cut(df['SpeedOG'], bins=speed_bins)\n",
    "df['draft_bin'] = pd.cut(df['MeanDraft'], bins=draft_bins)"
   ]
  },
  {
   "cell_type": "code",
   "execution_count": 7,
   "id": "8a2882f0-a725-4e0a-a35d-63adf49fc016",
   "metadata": {},
   "outputs": [
    {
     "name": "stderr",
     "output_type": "stream",
     "text": [
      "C:\\Users\\pooja\\AppData\\Local\\Temp\\ipykernel_47608\\1616473736.py:1: FutureWarning: The default of observed=False is deprecated and will be changed to True in a future version of pandas. Pass observed=False to retain current behavior or observed=True to adopt the future default and silence this warning.\n",
      "  grouped = df.groupby(['speed_bin', 'draft_bin'])\n"
     ]
    }
   ],
   "source": [
    "grouped = df.groupby(['speed_bin', 'draft_bin'])"
   ]
  },
  {
   "cell_type": "code",
   "execution_count": 8,
   "id": "6cabc1dd-e018-4873-a53c-903b65181a93",
   "metadata": {},
   "outputs": [],
   "source": [
    "import matplotlib.pyplot as plt\n",
    "from matplotlib.backends.backend_pdf import PdfPages\n",
    "\n",
    "with PdfPages(\"../Data/7000series_foc_power_plots.pdf\") as pdf:\n",
    "    for (speed_range, draft_range), group in grouped:\n",
    "        vessels = sorted(group['VesselId'].unique())\n",
    "        fig, axes = plt.subplots(1, len(vessels), figsize=(4 * len(vessels), 4), sharey=True)\n",
    "        fig.suptitle(f\"Speed: {speed_range}, Draft: {draft_range}\")\n",
    "\n",
    "        for i, vessel_id in enumerate(vessels):\n",
    "            ax = axes[i] if len(vessels) > 1 else axes\n",
    "            vessel_data = group[group['VesselId'] == vessel_id]\n",
    "\n",
    "            if vessel_data.empty:\n",
    "                continue\n",
    "\n",
    "            ax.scatter(vessel_data['ME1ShaftPower'], vessel_data['LCVCorrectedFOC'], label='Actual', color='blue')\n",
    "            ax.scatter(vessel_data['ideal_power'], vessel_data['ideal_foc'], label='Ideal', color='orange')\n",
    "\n",
    "            ax.set_title(f\"Vessel {vessel_id}\")\n",
    "            ax.set_xlabel(\"Power (kW)\")\n",
    "            if i == 0:\n",
    "                ax.set_ylabel(\"FOC (MT/day)\")\n",
    "            ax.legend()\n",
    "            ax.grid(True)\n",
    "\n",
    "        plt.tight_layout(rect=[0, 0, 1, 0.95])\n",
    "        pdf.savefig(fig)\n",
    "        plt.close(fig)\n"
   ]
  },
  {
   "cell_type": "code",
   "execution_count": null,
   "id": "045331e7-c794-481f-bcb9-46c856085bd1",
   "metadata": {},
   "outputs": [],
   "source": []
  },
  {
   "cell_type": "code",
   "execution_count": null,
   "id": "baa10775-66ee-4a2b-be14-76a3e4a33287",
   "metadata": {},
   "outputs": [],
   "source": []
  },
  {
   "cell_type": "code",
   "execution_count": null,
   "id": "3db44aae-6dab-4be4-953b-219e40e064eb",
   "metadata": {},
   "outputs": [],
   "source": []
  }
 ],
 "metadata": {
  "kernelspec": {
   "display_name": "Python 3 (ipykernel)",
   "language": "python",
   "name": "python3"
  },
  "language_info": {
   "codemirror_mode": {
    "name": "ipython",
    "version": 3
   },
   "file_extension": ".py",
   "mimetype": "text/x-python",
   "name": "python",
   "nbconvert_exporter": "python",
   "pygments_lexer": "ipython3",
   "version": "3.12.7"
  }
 },
 "nbformat": 4,
 "nbformat_minor": 5
}
